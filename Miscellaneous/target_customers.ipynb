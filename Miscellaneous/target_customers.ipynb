{
 "cells": [
  {
   "cell_type": "code",
   "execution_count": 217,
   "metadata": {
    "collapsed": true
   },
   "outputs": [],
   "source": [
    "import numpy as np\n",
    "import pandas as pd"
   ]
  },
  {
   "cell_type": "code",
   "execution_count": 229,
   "metadata": {
    "collapsed": false
   },
   "outputs": [],
   "source": [
    "tz_data = np.array([[\"M0001\",-8],\n",
    "[\"M0003\",-8],\n",
    "[\"M0005\",-3],\n",
    "[\"M0008\",-6],\n",
    "[\"M0009\",-9],\n",
    "[\"M0013\",-5],\n",
    "[\"M0014\",-5],\n",
    "[\"M0017\",-6],\n",
    "[\"M0019\",-9],\n",
    "[\"M0021\",-3],\n",
    "[\"M0033\",-2],\n",
    "[\"M0034\",-9],\n",
    "[\"M0038\",-3]])"
   ]
  },
  {
   "cell_type": "code",
   "execution_count": 230,
   "metadata": {
    "collapsed": false
   },
   "outputs": [
    {
     "data": {
      "text/html": [
       "<div>\n",
       "<table border=\"1\" class=\"dataframe\">\n",
       "  <thead>\n",
       "    <tr style=\"text-align: right;\">\n",
       "      <th></th>\n",
       "      <th>0</th>\n",
       "      <th>1</th>\n",
       "    </tr>\n",
       "  </thead>\n",
       "  <tbody>\n",
       "    <tr>\n",
       "      <th>0</th>\n",
       "      <td>M0001</td>\n",
       "      <td>-8</td>\n",
       "    </tr>\n",
       "    <tr>\n",
       "      <th>1</th>\n",
       "      <td>M0003</td>\n",
       "      <td>-8</td>\n",
       "    </tr>\n",
       "    <tr>\n",
       "      <th>2</th>\n",
       "      <td>M0005</td>\n",
       "      <td>-3</td>\n",
       "    </tr>\n",
       "    <tr>\n",
       "      <th>3</th>\n",
       "      <td>M0008</td>\n",
       "      <td>-6</td>\n",
       "    </tr>\n",
       "    <tr>\n",
       "      <th>4</th>\n",
       "      <td>M0009</td>\n",
       "      <td>-9</td>\n",
       "    </tr>\n",
       "  </tbody>\n",
       "</table>\n",
       "</div>"
      ],
      "text/plain": [
       "       0   1\n",
       "0  M0001  -8\n",
       "1  M0003  -8\n",
       "2  M0005  -3\n",
       "3  M0008  -6\n",
       "4  M0009  -9"
      ]
     },
     "execution_count": 230,
     "metadata": {},
     "output_type": "execute_result"
    }
   ],
   "source": [
    "df_tz_data = pd.DataFrame(tz_data)\n",
    "df_tz_data.head()"
   ]
  },
  {
   "cell_type": "code",
   "execution_count": 231,
   "metadata": {
    "collapsed": false
   },
   "outputs": [
    {
     "data": {
      "text/plain": [
       "(12L,)"
      ]
     },
     "execution_count": 231,
     "metadata": {},
     "output_type": "execute_result"
    }
   ],
   "source": [
    "string = \"\"\"C059993,M0033,6-Jan-16,5:56:10 AM,206\n",
    "C059993,M0034,2-May-16,10:59:02 PM,381\n",
    "C059994,M0001,13-Mar-16,11:28:08 PM,303\n",
    "C059994,M0008,10-May-16,1:30:35 AM,685\n",
    "C059994,M0021,14-Dec-16,4:48:08 AM,146\n",
    "C059996,M0038,5-Sep-16,4:58:47 AM,129\n",
    "C059997,M0005,18-Jan-16,4:39:59 AM,255\n",
    "C059997,M0013,14-Feb-16,2:45:57 AM,276\n",
    "C059998,M0019,18-Dec-16,10:45:24 PM,106\n",
    "C059999,M0014,20-Mar-16,2:50:07 AM,440\n",
    "C060000,M0009,19-May-16,10:37:37 PM,49\n",
    "C060000,M0017,19-Dec-16,1:43:46 AM,219\"\"\"\n",
    "\n",
    "a = np.array(string.split(\"\\n\"))\n",
    "a.shape"
   ]
  },
  {
   "cell_type": "code",
   "execution_count": 232,
   "metadata": {
    "collapsed": false
   },
   "outputs": [
    {
     "data": {
      "text/plain": [
       "array([['C059993', 'M0033', '6-Jan-16', '5:56:10 AM', '206'],\n",
       "       ['C059993', 'M0034', '2-May-16', '10:59:02 PM', '381'],\n",
       "       ['C059994', 'M0001', '13-Mar-16', '11:28:08 PM', '303'],\n",
       "       ['C059994', 'M0008', '10-May-16', '1:30:35 AM', '685'],\n",
       "       ['C059994', 'M0021', '14-Dec-16', '4:48:08 AM', '146'],\n",
       "       ['C059996', 'M0038', '5-Sep-16', '4:58:47 AM', '129'],\n",
       "       ['C059997', 'M0005', '18-Jan-16', '4:39:59 AM', '255'],\n",
       "       ['C059997', 'M0013', '14-Feb-16', '2:45:57 AM', '276'],\n",
       "       ['C059998', 'M0019', '18-Dec-16', '10:45:24 PM', '106'],\n",
       "       ['C059999', 'M0014', '20-Mar-16', '2:50:07 AM', '440'],\n",
       "       ['C060000', 'M0009', '19-May-16', '10:37:37 PM', '49'],\n",
       "       ['C060000', 'M0017', '19-Dec-16', '1:43:46 AM', '219']], \n",
       "      dtype='|S11')"
      ]
     },
     "execution_count": 232,
     "metadata": {},
     "output_type": "execute_result"
    }
   ],
   "source": [
    "transaction_data = []\n",
    "for s in a:\n",
    "    li = s.split(\",\")\n",
    "    transaction_data.append(li)\n",
    "transaction_data = np.array(transaction_data)\n",
    "transaction_data"
   ]
  },
  {
   "cell_type": "code",
   "execution_count": 233,
   "metadata": {
    "collapsed": false
   },
   "outputs": [
    {
     "data": {
      "text/html": [
       "<div>\n",
       "<table border=\"1\" class=\"dataframe\">\n",
       "  <thead>\n",
       "    <tr style=\"text-align: right;\">\n",
       "      <th></th>\n",
       "      <th>0</th>\n",
       "      <th>1</th>\n",
       "      <th>2</th>\n",
       "      <th>3</th>\n",
       "      <th>4</th>\n",
       "    </tr>\n",
       "  </thead>\n",
       "  <tbody>\n",
       "    <tr>\n",
       "      <th>0</th>\n",
       "      <td>C059993</td>\n",
       "      <td>M0033</td>\n",
       "      <td>6-Jan-16</td>\n",
       "      <td>5:56:10 AM</td>\n",
       "      <td>206</td>\n",
       "    </tr>\n",
       "    <tr>\n",
       "      <th>1</th>\n",
       "      <td>C059993</td>\n",
       "      <td>M0034</td>\n",
       "      <td>2-May-16</td>\n",
       "      <td>10:59:02 PM</td>\n",
       "      <td>381</td>\n",
       "    </tr>\n",
       "    <tr>\n",
       "      <th>2</th>\n",
       "      <td>C059994</td>\n",
       "      <td>M0001</td>\n",
       "      <td>13-Mar-16</td>\n",
       "      <td>11:28:08 PM</td>\n",
       "      <td>303</td>\n",
       "    </tr>\n",
       "    <tr>\n",
       "      <th>3</th>\n",
       "      <td>C059994</td>\n",
       "      <td>M0008</td>\n",
       "      <td>10-May-16</td>\n",
       "      <td>1:30:35 AM</td>\n",
       "      <td>685</td>\n",
       "    </tr>\n",
       "    <tr>\n",
       "      <th>4</th>\n",
       "      <td>C059994</td>\n",
       "      <td>M0021</td>\n",
       "      <td>14-Dec-16</td>\n",
       "      <td>4:48:08 AM</td>\n",
       "      <td>146</td>\n",
       "    </tr>\n",
       "  </tbody>\n",
       "</table>\n",
       "</div>"
      ],
      "text/plain": [
       "         0      1          2            3    4\n",
       "0  C059993  M0033   6-Jan-16   5:56:10 AM  206\n",
       "1  C059993  M0034   2-May-16  10:59:02 PM  381\n",
       "2  C059994  M0001  13-Mar-16  11:28:08 PM  303\n",
       "3  C059994  M0008  10-May-16   1:30:35 AM  685\n",
       "4  C059994  M0021  14-Dec-16   4:48:08 AM  146"
      ]
     },
     "execution_count": 233,
     "metadata": {},
     "output_type": "execute_result"
    }
   ],
   "source": [
    "df_trans_data = pd.DataFrame(transaction_data)\n",
    "df_trans_data.head()"
   ]
  },
  {
   "cell_type": "code",
   "execution_count": 234,
   "metadata": {
    "collapsed": false
   },
   "outputs": [],
   "source": [
    "df_tz_data.columns = [\"Rest_id\", \"GMT_diff\"]\n",
    "df_trans_data.columns = [\"Cust_id\", \"Rest_id\", \"Date\", \"Time\", \"Amount\"]"
   ]
  },
  {
   "cell_type": "code",
   "execution_count": 235,
   "metadata": {
    "collapsed": false
   },
   "outputs": [
    {
     "data": {
      "text/plain": [
       "(14L,)"
      ]
     },
     "execution_count": 235,
     "metadata": {},
     "output_type": "execute_result"
    }
   ],
   "source": [
    "string = \"\"\"C059993,M0014,7-Jun-16,7:47:00 AM,166,N\n",
    "C059993,M0033,6-Jan-16,7:56:10 AM,161,Y\n",
    "C059993,M0034,3-May-16,7:59:02 AM,280,Y\n",
    "C059994,M0001,14-Mar-16,7:28:08 AM,236,Y\n",
    "C059994,M0008,10-May-16,7:30:35 AM,526,Y\n",
    "C059994,M0021,14-Dec-16,7:48:08 AM,118,Y\n",
    "C059996,M0038,5-Sep-16,7:58:47 AM,109,Y\n",
    "C059997,M0005,18-Jan-16,7:39:59 AM,243,Y\n",
    "C059997,M0013,14-Feb-16,7:45:57 AM,200,Y\n",
    "C059998,M0003,13-Mar-16,7:28:35 AM,1330,N\n",
    "C059998,M0019,19-Dec-16,7:45:24 AM,89,Y\n",
    "C059999,M0014,20-Mar-16,7:50:07 AM,325,Y\n",
    "C060000,M0009,20-May-16,7:37:37 AM,45,Y\n",
    "C060000,M0017,19-Dec-16,7:43:46 AM,184,Y\"\"\"\n",
    "\n",
    "a = np.array(string.split(\"\\n\"))\n",
    "a.shape"
   ]
  },
  {
   "cell_type": "code",
   "execution_count": 236,
   "metadata": {
    "collapsed": false
   },
   "outputs": [
    {
     "data": {
      "text/plain": [
       "array([['C059993', 'M0014', '7-Jun-16', '7:47:00 AM', '166', 'N'],\n",
       "       ['C059993', 'M0033', '6-Jan-16', '7:56:10 AM', '161', 'Y'],\n",
       "       ['C059993', 'M0034', '3-May-16', '7:59:02 AM', '280', 'Y'],\n",
       "       ['C059994', 'M0001', '14-Mar-16', '7:28:08 AM', '236', 'Y'],\n",
       "       ['C059994', 'M0008', '10-May-16', '7:30:35 AM', '526', 'Y'],\n",
       "       ['C059994', 'M0021', '14-Dec-16', '7:48:08 AM', '118', 'Y'],\n",
       "       ['C059996', 'M0038', '5-Sep-16', '7:58:47 AM', '109', 'Y'],\n",
       "       ['C059997', 'M0005', '18-Jan-16', '7:39:59 AM', '243', 'Y'],\n",
       "       ['C059997', 'M0013', '14-Feb-16', '7:45:57 AM', '200', 'Y'],\n",
       "       ['C059998', 'M0003', '13-Mar-16', '7:28:35 AM', '1330', 'N'],\n",
       "       ['C059998', 'M0019', '19-Dec-16', '7:45:24 AM', '89', 'Y'],\n",
       "       ['C059999', 'M0014', '20-Mar-16', '7:50:07 AM', '325', 'Y'],\n",
       "       ['C060000', 'M0009', '20-May-16', '7:37:37 AM', '45', 'Y'],\n",
       "       ['C060000', 'M0017', '19-Dec-16', '7:43:46 AM', '184', 'Y']], \n",
       "      dtype='|S10')"
      ]
     },
     "execution_count": 236,
     "metadata": {},
     "output_type": "execute_result"
    }
   ],
   "source": [
    "tip_data = []\n",
    "for s in a:\n",
    "    li = s.split(\",\")\n",
    "    tip_data.append(li)\n",
    "tip_data = np.array(tip_data)\n",
    "tip_data"
   ]
  },
  {
   "cell_type": "code",
   "execution_count": 237,
   "metadata": {
    "collapsed": false
   },
   "outputs": [
    {
     "data": {
      "text/html": [
       "<div>\n",
       "<table border=\"1\" class=\"dataframe\">\n",
       "  <thead>\n",
       "    <tr style=\"text-align: right;\">\n",
       "      <th></th>\n",
       "      <th>Cust_id</th>\n",
       "      <th>Rest_id</th>\n",
       "      <th>Date</th>\n",
       "      <th>Time</th>\n",
       "      <th>Amount_no_tip</th>\n",
       "      <th>Approved</th>\n",
       "    </tr>\n",
       "  </thead>\n",
       "  <tbody>\n",
       "    <tr>\n",
       "      <th>0</th>\n",
       "      <td>C059993</td>\n",
       "      <td>M0014</td>\n",
       "      <td>7-Jun-16</td>\n",
       "      <td>7:47:00 AM</td>\n",
       "      <td>166</td>\n",
       "      <td>N</td>\n",
       "    </tr>\n",
       "    <tr>\n",
       "      <th>1</th>\n",
       "      <td>C059993</td>\n",
       "      <td>M0033</td>\n",
       "      <td>6-Jan-16</td>\n",
       "      <td>7:56:10 AM</td>\n",
       "      <td>161</td>\n",
       "      <td>Y</td>\n",
       "    </tr>\n",
       "    <tr>\n",
       "      <th>2</th>\n",
       "      <td>C059993</td>\n",
       "      <td>M0034</td>\n",
       "      <td>3-May-16</td>\n",
       "      <td>7:59:02 AM</td>\n",
       "      <td>280</td>\n",
       "      <td>Y</td>\n",
       "    </tr>\n",
       "    <tr>\n",
       "      <th>3</th>\n",
       "      <td>C059994</td>\n",
       "      <td>M0001</td>\n",
       "      <td>14-Mar-16</td>\n",
       "      <td>7:28:08 AM</td>\n",
       "      <td>236</td>\n",
       "      <td>Y</td>\n",
       "    </tr>\n",
       "    <tr>\n",
       "      <th>4</th>\n",
       "      <td>C059994</td>\n",
       "      <td>M0008</td>\n",
       "      <td>10-May-16</td>\n",
       "      <td>7:30:35 AM</td>\n",
       "      <td>526</td>\n",
       "      <td>Y</td>\n",
       "    </tr>\n",
       "  </tbody>\n",
       "</table>\n",
       "</div>"
      ],
      "text/plain": [
       "   Cust_id Rest_id       Date        Time  Amount_no_tip Approved\n",
       "0  C059993   M0014   7-Jun-16  7:47:00 AM            166        N\n",
       "1  C059993   M0033   6-Jan-16  7:56:10 AM            161        Y\n",
       "2  C059993   M0034   3-May-16  7:59:02 AM            280        Y\n",
       "3  C059994   M0001  14-Mar-16  7:28:08 AM            236        Y\n",
       "4  C059994   M0008  10-May-16  7:30:35 AM            526        Y"
      ]
     },
     "execution_count": 237,
     "metadata": {},
     "output_type": "execute_result"
    }
   ],
   "source": [
    "df_tip_data = pd.DataFrame(tip_data)\n",
    "df_tip_data.columns = [\"Cust_id\", \"Rest_id\", \"Date\", \"Time\", \"Amount_no_tip\", \"Approved\"]\n",
    "df_tip_data[\"Amount_no_tip\"] = df_tip_data[\"Amount_no_tip\"].astype(int)\n",
    "df_tip_data.head()"
   ]
  },
  {
   "cell_type": "code",
   "execution_count": 238,
   "metadata": {
    "collapsed": false
   },
   "outputs": [
    {
     "data": {
      "text/plain": [
       "Cust_id\n",
       "C059993    2\n",
       "C059994    3\n",
       "C059996    1\n",
       "C059997    2\n",
       "C059998    1\n",
       "C059999    1\n",
       "C060000    2\n",
       "Name: Rest_id, dtype: int64"
      ]
     },
     "execution_count": 238,
     "metadata": {},
     "output_type": "execute_result"
    }
   ],
   "source": [
    "trans_count = df_trans_data.groupby(df_trans_data.Cust_id).count()[\"Rest_id\"]\n",
    "trans_count"
   ]
  },
  {
   "cell_type": "code",
   "execution_count": 239,
   "metadata": {
    "collapsed": false
   },
   "outputs": [
    {
     "data": {
      "text/html": [
       "<div>\n",
       "<table border=\"1\" class=\"dataframe\">\n",
       "  <thead>\n",
       "    <tr style=\"text-align: right;\">\n",
       "      <th></th>\n",
       "      <th>Rest_id</th>\n",
       "      <th>GMT_diff</th>\n",
       "      <th>Cust_id</th>\n",
       "      <th>Date</th>\n",
       "      <th>Time</th>\n",
       "      <th>Amount</th>\n",
       "    </tr>\n",
       "  </thead>\n",
       "  <tbody>\n",
       "    <tr>\n",
       "      <th>0</th>\n",
       "      <td>M0001</td>\n",
       "      <td>-8</td>\n",
       "      <td>C059994</td>\n",
       "      <td>13-Mar-16</td>\n",
       "      <td>11:28:08 PM</td>\n",
       "      <td>303</td>\n",
       "    </tr>\n",
       "    <tr>\n",
       "      <th>1</th>\n",
       "      <td>M0005</td>\n",
       "      <td>-3</td>\n",
       "      <td>C059997</td>\n",
       "      <td>18-Jan-16</td>\n",
       "      <td>4:39:59 AM</td>\n",
       "      <td>255</td>\n",
       "    </tr>\n",
       "    <tr>\n",
       "      <th>2</th>\n",
       "      <td>M0008</td>\n",
       "      <td>-6</td>\n",
       "      <td>C059994</td>\n",
       "      <td>10-May-16</td>\n",
       "      <td>1:30:35 AM</td>\n",
       "      <td>685</td>\n",
       "    </tr>\n",
       "    <tr>\n",
       "      <th>3</th>\n",
       "      <td>M0009</td>\n",
       "      <td>-9</td>\n",
       "      <td>C060000</td>\n",
       "      <td>19-May-16</td>\n",
       "      <td>10:37:37 PM</td>\n",
       "      <td>49</td>\n",
       "    </tr>\n",
       "    <tr>\n",
       "      <th>4</th>\n",
       "      <td>M0013</td>\n",
       "      <td>-5</td>\n",
       "      <td>C059997</td>\n",
       "      <td>14-Feb-16</td>\n",
       "      <td>2:45:57 AM</td>\n",
       "      <td>276</td>\n",
       "    </tr>\n",
       "    <tr>\n",
       "      <th>5</th>\n",
       "      <td>M0014</td>\n",
       "      <td>-5</td>\n",
       "      <td>C059999</td>\n",
       "      <td>20-Mar-16</td>\n",
       "      <td>2:50:07 AM</td>\n",
       "      <td>440</td>\n",
       "    </tr>\n",
       "    <tr>\n",
       "      <th>6</th>\n",
       "      <td>M0017</td>\n",
       "      <td>-6</td>\n",
       "      <td>C060000</td>\n",
       "      <td>19-Dec-16</td>\n",
       "      <td>1:43:46 AM</td>\n",
       "      <td>219</td>\n",
       "    </tr>\n",
       "    <tr>\n",
       "      <th>7</th>\n",
       "      <td>M0019</td>\n",
       "      <td>-9</td>\n",
       "      <td>C059998</td>\n",
       "      <td>18-Dec-16</td>\n",
       "      <td>10:45:24 PM</td>\n",
       "      <td>106</td>\n",
       "    </tr>\n",
       "    <tr>\n",
       "      <th>8</th>\n",
       "      <td>M0021</td>\n",
       "      <td>-3</td>\n",
       "      <td>C059994</td>\n",
       "      <td>14-Dec-16</td>\n",
       "      <td>4:48:08 AM</td>\n",
       "      <td>146</td>\n",
       "    </tr>\n",
       "    <tr>\n",
       "      <th>9</th>\n",
       "      <td>M0033</td>\n",
       "      <td>-2</td>\n",
       "      <td>C059993</td>\n",
       "      <td>6-Jan-16</td>\n",
       "      <td>5:56:10 AM</td>\n",
       "      <td>206</td>\n",
       "    </tr>\n",
       "    <tr>\n",
       "      <th>10</th>\n",
       "      <td>M0034</td>\n",
       "      <td>-9</td>\n",
       "      <td>C059993</td>\n",
       "      <td>2-May-16</td>\n",
       "      <td>10:59:02 PM</td>\n",
       "      <td>381</td>\n",
       "    </tr>\n",
       "    <tr>\n",
       "      <th>11</th>\n",
       "      <td>M0038</td>\n",
       "      <td>-3</td>\n",
       "      <td>C059996</td>\n",
       "      <td>5-Sep-16</td>\n",
       "      <td>4:58:47 AM</td>\n",
       "      <td>129</td>\n",
       "    </tr>\n",
       "  </tbody>\n",
       "</table>\n",
       "</div>"
      ],
      "text/plain": [
       "   Rest_id GMT_diff  Cust_id       Date         Time Amount\n",
       "0    M0001       -8  C059994  13-Mar-16  11:28:08 PM    303\n",
       "1    M0005       -3  C059997  18-Jan-16   4:39:59 AM    255\n",
       "2    M0008       -6  C059994  10-May-16   1:30:35 AM    685\n",
       "3    M0009       -9  C060000  19-May-16  10:37:37 PM     49\n",
       "4    M0013       -5  C059997  14-Feb-16   2:45:57 AM    276\n",
       "5    M0014       -5  C059999  20-Mar-16   2:50:07 AM    440\n",
       "6    M0017       -6  C060000  19-Dec-16   1:43:46 AM    219\n",
       "7    M0019       -9  C059998  18-Dec-16  10:45:24 PM    106\n",
       "8    M0021       -3  C059994  14-Dec-16   4:48:08 AM    146\n",
       "9    M0033       -2  C059993   6-Jan-16   5:56:10 AM    206\n",
       "10   M0034       -9  C059993   2-May-16  10:59:02 PM    381\n",
       "11   M0038       -3  C059996   5-Sep-16   4:58:47 AM    129"
      ]
     },
     "execution_count": 239,
     "metadata": {},
     "output_type": "execute_result"
    }
   ],
   "source": [
    "df1 = pd.merge(df_tz_data, df_trans_data, on = \"Rest_id\")\n",
    "df1"
   ]
  },
  {
   "cell_type": "code",
   "execution_count": 240,
   "metadata": {
    "collapsed": false
   },
   "outputs": [],
   "source": [
    "def change_time(date, time, gmt):\n",
    "    type = time.split()[1]\n",
    "    t = time.split()[0]\n",
    "    hrs = t.split(\":\")[0]\n",
    "    gmt_hrs = int(hrs) - int(gmt)\n",
    "    d = date.split(\"-\")[0]\n",
    "    new_date = date\n",
    "    if (gmt_hrs > 12):\n",
    "        if type == \"AM\":\n",
    "            type = \"PM\"\n",
    "        else:\n",
    "            new_date = str(int(d)+1) + \"-\" + date.split(\"-\")[1] + \"-\" + date.split(\"-\")[2]\n",
    "            type = \"AM\" \n",
    "    \n",
    "    if gmt_hrs < 0:\n",
    "        if type == \"AM\":\n",
    "            new_date = str(int(d)-1) + \"-\" + date.split(\"-\")[1] + \"-\" + date.split(\"-\")[2]\n",
    "            type = \"PM\"\n",
    "        else:\n",
    "            type = \"AM\"\n",
    "            \n",
    "        new_t = str(12 + gmt_hrs) + \":\" + t.split(\":\")[1] + \":\" + t.split(\":\")[2] + \" \" + type\n",
    "    \n",
    "    new_t = str(gmt_hrs%12) + \":\" + t.split(\":\")[1] + \":\" + t.split(\":\")[2] + \" \" + type\n",
    "    \n",
    "    return [new_t,new_date]"
   ]
  },
  {
   "cell_type": "code",
   "execution_count": 241,
   "metadata": {
    "collapsed": false
   },
   "outputs": [
    {
     "data": {
      "text/plain": [
       "['11:28:08 PM', '12-Mar-16']"
      ]
     },
     "execution_count": 241,
     "metadata": {},
     "output_type": "execute_result"
    }
   ],
   "source": [
    "change_time(\"13-Mar-16\", \"2:28:08 AM\", \"3\" )"
   ]
  },
  {
   "cell_type": "code",
   "execution_count": 242,
   "metadata": {
    "collapsed": false
   },
   "outputs": [],
   "source": [
    "new_time = []\n",
    "new_date = []\n",
    "for i in range(df1.shape[0]):\n",
    "    new_time.append(change_time(df1.iloc[i,:].Date, df1.iloc[i,:].Time, df1.iloc[i,:].GMT_diff)[0])\n",
    "    new_date.append(change_time(df1.iloc[i,:].Date, df1.iloc[i,:].Time, df1.iloc[i,:].GMT_diff)[1])"
   ]
  },
  {
   "cell_type": "code",
   "execution_count": 243,
   "metadata": {
    "collapsed": false
   },
   "outputs": [
    {
     "data": {
      "text/html": [
       "<div>\n",
       "<table border=\"1\" class=\"dataframe\">\n",
       "  <thead>\n",
       "    <tr style=\"text-align: right;\">\n",
       "      <th></th>\n",
       "      <th>Rest_id</th>\n",
       "      <th>GMT_diff</th>\n",
       "      <th>Cust_id</th>\n",
       "      <th>Date</th>\n",
       "      <th>Time</th>\n",
       "      <th>Amount</th>\n",
       "    </tr>\n",
       "  </thead>\n",
       "  <tbody>\n",
       "    <tr>\n",
       "      <th>0</th>\n",
       "      <td>M0001</td>\n",
       "      <td>-8</td>\n",
       "      <td>C059994</td>\n",
       "      <td>14-Mar-16</td>\n",
       "      <td>7:28:08 AM</td>\n",
       "      <td>303</td>\n",
       "    </tr>\n",
       "    <tr>\n",
       "      <th>1</th>\n",
       "      <td>M0005</td>\n",
       "      <td>-3</td>\n",
       "      <td>C059997</td>\n",
       "      <td>18-Jan-16</td>\n",
       "      <td>7:39:59 AM</td>\n",
       "      <td>255</td>\n",
       "    </tr>\n",
       "    <tr>\n",
       "      <th>2</th>\n",
       "      <td>M0008</td>\n",
       "      <td>-6</td>\n",
       "      <td>C059994</td>\n",
       "      <td>10-May-16</td>\n",
       "      <td>7:30:35 AM</td>\n",
       "      <td>685</td>\n",
       "    </tr>\n",
       "    <tr>\n",
       "      <th>3</th>\n",
       "      <td>M0009</td>\n",
       "      <td>-9</td>\n",
       "      <td>C060000</td>\n",
       "      <td>20-May-16</td>\n",
       "      <td>7:37:37 AM</td>\n",
       "      <td>49</td>\n",
       "    </tr>\n",
       "    <tr>\n",
       "      <th>4</th>\n",
       "      <td>M0013</td>\n",
       "      <td>-5</td>\n",
       "      <td>C059997</td>\n",
       "      <td>14-Feb-16</td>\n",
       "      <td>7:45:57 AM</td>\n",
       "      <td>276</td>\n",
       "    </tr>\n",
       "  </tbody>\n",
       "</table>\n",
       "</div>"
      ],
      "text/plain": [
       "  Rest_id GMT_diff  Cust_id       Date        Time Amount\n",
       "0   M0001       -8  C059994  14-Mar-16  7:28:08 AM    303\n",
       "1   M0005       -3  C059997  18-Jan-16  7:39:59 AM    255\n",
       "2   M0008       -6  C059994  10-May-16  7:30:35 AM    685\n",
       "3   M0009       -9  C060000  20-May-16  7:37:37 AM     49\n",
       "4   M0013       -5  C059997  14-Feb-16  7:45:57 AM    276"
      ]
     },
     "execution_count": 243,
     "metadata": {},
     "output_type": "execute_result"
    }
   ],
   "source": [
    "df1[\"Time\"] = pd.Series(new_time)\n",
    "df1[\"Date\"] = pd.Series(new_date)\n",
    "df1.head()"
   ]
  },
  {
   "cell_type": "code",
   "execution_count": 244,
   "metadata": {
    "collapsed": false
   },
   "outputs": [
    {
     "data": {
      "text/html": [
       "<div>\n",
       "<table border=\"1\" class=\"dataframe\">\n",
       "  <thead>\n",
       "    <tr style=\"text-align: right;\">\n",
       "      <th></th>\n",
       "      <th>Cust_id</th>\n",
       "      <th>Rest_id</th>\n",
       "      <th>Date</th>\n",
       "      <th>Time</th>\n",
       "      <th>Amount_no_tip</th>\n",
       "      <th>Approved</th>\n",
       "    </tr>\n",
       "  </thead>\n",
       "  <tbody>\n",
       "    <tr>\n",
       "      <th>0</th>\n",
       "      <td>C059993</td>\n",
       "      <td>M0014</td>\n",
       "      <td>7-Jun-16</td>\n",
       "      <td>7:47:00 AM</td>\n",
       "      <td>166</td>\n",
       "      <td>N</td>\n",
       "    </tr>\n",
       "    <tr>\n",
       "      <th>1</th>\n",
       "      <td>C059993</td>\n",
       "      <td>M0033</td>\n",
       "      <td>6-Jan-16</td>\n",
       "      <td>7:56:10 AM</td>\n",
       "      <td>161</td>\n",
       "      <td>Y</td>\n",
       "    </tr>\n",
       "    <tr>\n",
       "      <th>2</th>\n",
       "      <td>C059993</td>\n",
       "      <td>M0034</td>\n",
       "      <td>3-May-16</td>\n",
       "      <td>7:59:02 AM</td>\n",
       "      <td>280</td>\n",
       "      <td>Y</td>\n",
       "    </tr>\n",
       "    <tr>\n",
       "      <th>3</th>\n",
       "      <td>C059994</td>\n",
       "      <td>M0001</td>\n",
       "      <td>14-Mar-16</td>\n",
       "      <td>7:28:08 AM</td>\n",
       "      <td>236</td>\n",
       "      <td>Y</td>\n",
       "    </tr>\n",
       "    <tr>\n",
       "      <th>4</th>\n",
       "      <td>C059994</td>\n",
       "      <td>M0008</td>\n",
       "      <td>10-May-16</td>\n",
       "      <td>7:30:35 AM</td>\n",
       "      <td>526</td>\n",
       "      <td>Y</td>\n",
       "    </tr>\n",
       "    <tr>\n",
       "      <th>5</th>\n",
       "      <td>C059994</td>\n",
       "      <td>M0021</td>\n",
       "      <td>14-Dec-16</td>\n",
       "      <td>7:48:08 AM</td>\n",
       "      <td>118</td>\n",
       "      <td>Y</td>\n",
       "    </tr>\n",
       "    <tr>\n",
       "      <th>6</th>\n",
       "      <td>C059996</td>\n",
       "      <td>M0038</td>\n",
       "      <td>5-Sep-16</td>\n",
       "      <td>7:58:47 AM</td>\n",
       "      <td>109</td>\n",
       "      <td>Y</td>\n",
       "    </tr>\n",
       "    <tr>\n",
       "      <th>7</th>\n",
       "      <td>C059997</td>\n",
       "      <td>M0005</td>\n",
       "      <td>18-Jan-16</td>\n",
       "      <td>7:39:59 AM</td>\n",
       "      <td>243</td>\n",
       "      <td>Y</td>\n",
       "    </tr>\n",
       "    <tr>\n",
       "      <th>8</th>\n",
       "      <td>C059997</td>\n",
       "      <td>M0013</td>\n",
       "      <td>14-Feb-16</td>\n",
       "      <td>7:45:57 AM</td>\n",
       "      <td>200</td>\n",
       "      <td>Y</td>\n",
       "    </tr>\n",
       "    <tr>\n",
       "      <th>9</th>\n",
       "      <td>C059998</td>\n",
       "      <td>M0003</td>\n",
       "      <td>13-Mar-16</td>\n",
       "      <td>7:28:35 AM</td>\n",
       "      <td>1330</td>\n",
       "      <td>N</td>\n",
       "    </tr>\n",
       "    <tr>\n",
       "      <th>10</th>\n",
       "      <td>C059998</td>\n",
       "      <td>M0019</td>\n",
       "      <td>19-Dec-16</td>\n",
       "      <td>7:45:24 AM</td>\n",
       "      <td>89</td>\n",
       "      <td>Y</td>\n",
       "    </tr>\n",
       "    <tr>\n",
       "      <th>11</th>\n",
       "      <td>C059999</td>\n",
       "      <td>M0014</td>\n",
       "      <td>20-Mar-16</td>\n",
       "      <td>7:50:07 AM</td>\n",
       "      <td>325</td>\n",
       "      <td>Y</td>\n",
       "    </tr>\n",
       "    <tr>\n",
       "      <th>12</th>\n",
       "      <td>C060000</td>\n",
       "      <td>M0009</td>\n",
       "      <td>20-May-16</td>\n",
       "      <td>7:37:37 AM</td>\n",
       "      <td>45</td>\n",
       "      <td>Y</td>\n",
       "    </tr>\n",
       "    <tr>\n",
       "      <th>13</th>\n",
       "      <td>C060000</td>\n",
       "      <td>M0017</td>\n",
       "      <td>19-Dec-16</td>\n",
       "      <td>7:43:46 AM</td>\n",
       "      <td>184</td>\n",
       "      <td>Y</td>\n",
       "    </tr>\n",
       "  </tbody>\n",
       "</table>\n",
       "</div>"
      ],
      "text/plain": [
       "    Cust_id Rest_id       Date        Time  Amount_no_tip Approved\n",
       "0   C059993   M0014   7-Jun-16  7:47:00 AM            166        N\n",
       "1   C059993   M0033   6-Jan-16  7:56:10 AM            161        Y\n",
       "2   C059993   M0034   3-May-16  7:59:02 AM            280        Y\n",
       "3   C059994   M0001  14-Mar-16  7:28:08 AM            236        Y\n",
       "4   C059994   M0008  10-May-16  7:30:35 AM            526        Y\n",
       "5   C059994   M0021  14-Dec-16  7:48:08 AM            118        Y\n",
       "6   C059996   M0038   5-Sep-16  7:58:47 AM            109        Y\n",
       "7   C059997   M0005  18-Jan-16  7:39:59 AM            243        Y\n",
       "8   C059997   M0013  14-Feb-16  7:45:57 AM            200        Y\n",
       "9   C059998   M0003  13-Mar-16  7:28:35 AM           1330        N\n",
       "10  C059998   M0019  19-Dec-16  7:45:24 AM             89        Y\n",
       "11  C059999   M0014  20-Mar-16  7:50:07 AM            325        Y\n",
       "12  C060000   M0009  20-May-16  7:37:37 AM             45        Y\n",
       "13  C060000   M0017  19-Dec-16  7:43:46 AM            184        Y"
      ]
     },
     "execution_count": 244,
     "metadata": {},
     "output_type": "execute_result"
    }
   ],
   "source": [
    "df_tip_data"
   ]
  },
  {
   "cell_type": "code",
   "execution_count": 245,
   "metadata": {
    "collapsed": false
   },
   "outputs": [
    {
     "data": {
      "text/html": [
       "<div>\n",
       "<table border=\"1\" class=\"dataframe\">\n",
       "  <thead>\n",
       "    <tr style=\"text-align: right;\">\n",
       "      <th></th>\n",
       "      <th>Cust_id</th>\n",
       "      <th>Rest_id</th>\n",
       "      <th>Date</th>\n",
       "      <th>Time</th>\n",
       "      <th>Amount_no_tip</th>\n",
       "      <th>Approved</th>\n",
       "    </tr>\n",
       "  </thead>\n",
       "  <tbody>\n",
       "    <tr>\n",
       "      <th>0</th>\n",
       "      <td>C059993</td>\n",
       "      <td>M0014</td>\n",
       "      <td>7-Jun-16</td>\n",
       "      <td>7:47:00 AM</td>\n",
       "      <td>166</td>\n",
       "      <td>N</td>\n",
       "    </tr>\n",
       "    <tr>\n",
       "      <th>1</th>\n",
       "      <td>C059993</td>\n",
       "      <td>M0033</td>\n",
       "      <td>6-Jan-16</td>\n",
       "      <td>7:56:10 AM</td>\n",
       "      <td>161</td>\n",
       "      <td>Y</td>\n",
       "    </tr>\n",
       "    <tr>\n",
       "      <th>2</th>\n",
       "      <td>C059993</td>\n",
       "      <td>M0034</td>\n",
       "      <td>3-May-16</td>\n",
       "      <td>7:59:02 AM</td>\n",
       "      <td>280</td>\n",
       "      <td>Y</td>\n",
       "    </tr>\n",
       "    <tr>\n",
       "      <th>3</th>\n",
       "      <td>C059994</td>\n",
       "      <td>M0001</td>\n",
       "      <td>14-Mar-16</td>\n",
       "      <td>7:28:08 AM</td>\n",
       "      <td>236</td>\n",
       "      <td>Y</td>\n",
       "    </tr>\n",
       "    <tr>\n",
       "      <th>4</th>\n",
       "      <td>C059994</td>\n",
       "      <td>M0008</td>\n",
       "      <td>10-May-16</td>\n",
       "      <td>7:30:35 AM</td>\n",
       "      <td>526</td>\n",
       "      <td>Y</td>\n",
       "    </tr>\n",
       "    <tr>\n",
       "      <th>5</th>\n",
       "      <td>C059994</td>\n",
       "      <td>M0021</td>\n",
       "      <td>14-Dec-16</td>\n",
       "      <td>7:48:08 AM</td>\n",
       "      <td>118</td>\n",
       "      <td>Y</td>\n",
       "    </tr>\n",
       "    <tr>\n",
       "      <th>6</th>\n",
       "      <td>C059996</td>\n",
       "      <td>M0038</td>\n",
       "      <td>5-Sep-16</td>\n",
       "      <td>7:58:47 AM</td>\n",
       "      <td>109</td>\n",
       "      <td>Y</td>\n",
       "    </tr>\n",
       "    <tr>\n",
       "      <th>7</th>\n",
       "      <td>C059997</td>\n",
       "      <td>M0005</td>\n",
       "      <td>18-Jan-16</td>\n",
       "      <td>7:39:59 AM</td>\n",
       "      <td>243</td>\n",
       "      <td>Y</td>\n",
       "    </tr>\n",
       "    <tr>\n",
       "      <th>8</th>\n",
       "      <td>C059997</td>\n",
       "      <td>M0013</td>\n",
       "      <td>14-Feb-16</td>\n",
       "      <td>7:45:57 AM</td>\n",
       "      <td>200</td>\n",
       "      <td>Y</td>\n",
       "    </tr>\n",
       "    <tr>\n",
       "      <th>9</th>\n",
       "      <td>C059998</td>\n",
       "      <td>M0003</td>\n",
       "      <td>13-Mar-16</td>\n",
       "      <td>7:28:35 AM</td>\n",
       "      <td>1330</td>\n",
       "      <td>N</td>\n",
       "    </tr>\n",
       "    <tr>\n",
       "      <th>10</th>\n",
       "      <td>C059998</td>\n",
       "      <td>M0019</td>\n",
       "      <td>19-Dec-16</td>\n",
       "      <td>7:45:24 AM</td>\n",
       "      <td>89</td>\n",
       "      <td>Y</td>\n",
       "    </tr>\n",
       "    <tr>\n",
       "      <th>11</th>\n",
       "      <td>C059999</td>\n",
       "      <td>M0014</td>\n",
       "      <td>20-Mar-16</td>\n",
       "      <td>7:50:07 AM</td>\n",
       "      <td>325</td>\n",
       "      <td>Y</td>\n",
       "    </tr>\n",
       "    <tr>\n",
       "      <th>12</th>\n",
       "      <td>C060000</td>\n",
       "      <td>M0009</td>\n",
       "      <td>20-May-16</td>\n",
       "      <td>7:37:37 AM</td>\n",
       "      <td>45</td>\n",
       "      <td>Y</td>\n",
       "    </tr>\n",
       "    <tr>\n",
       "      <th>13</th>\n",
       "      <td>C060000</td>\n",
       "      <td>M0017</td>\n",
       "      <td>19-Dec-16</td>\n",
       "      <td>7:43:46 AM</td>\n",
       "      <td>184</td>\n",
       "      <td>Y</td>\n",
       "    </tr>\n",
       "  </tbody>\n",
       "</table>\n",
       "</div>"
      ],
      "text/plain": [
       "    Cust_id Rest_id       Date        Time  Amount_no_tip Approved\n",
       "0   C059993   M0014   7-Jun-16  7:47:00 AM            166        N\n",
       "1   C059993   M0033   6-Jan-16  7:56:10 AM            161        Y\n",
       "2   C059993   M0034   3-May-16  7:59:02 AM            280        Y\n",
       "3   C059994   M0001  14-Mar-16  7:28:08 AM            236        Y\n",
       "4   C059994   M0008  10-May-16  7:30:35 AM            526        Y\n",
       "5   C059994   M0021  14-Dec-16  7:48:08 AM            118        Y\n",
       "6   C059996   M0038   5-Sep-16  7:58:47 AM            109        Y\n",
       "7   C059997   M0005  18-Jan-16  7:39:59 AM            243        Y\n",
       "8   C059997   M0013  14-Feb-16  7:45:57 AM            200        Y\n",
       "9   C059998   M0003  13-Mar-16  7:28:35 AM           1330        N\n",
       "10  C059998   M0019  19-Dec-16  7:45:24 AM             89        Y\n",
       "11  C059999   M0014  20-Mar-16  7:50:07 AM            325        Y\n",
       "12  C060000   M0009  20-May-16  7:37:37 AM             45        Y\n",
       "13  C060000   M0017  19-Dec-16  7:43:46 AM            184        Y"
      ]
     },
     "execution_count": 245,
     "metadata": {},
     "output_type": "execute_result"
    }
   ],
   "source": [
    "df_tip_data"
   ]
  },
  {
   "cell_type": "code",
   "execution_count": 246,
   "metadata": {
    "collapsed": false
   },
   "outputs": [
    {
     "data": {
      "text/html": [
       "<div>\n",
       "<table border=\"1\" class=\"dataframe\">\n",
       "  <thead>\n",
       "    <tr style=\"text-align: right;\">\n",
       "      <th></th>\n",
       "      <th>Rest_id</th>\n",
       "      <th>GMT_diff</th>\n",
       "      <th>Cust_id</th>\n",
       "      <th>Date</th>\n",
       "      <th>Time</th>\n",
       "      <th>Amount</th>\n",
       "      <th>Amount_no_tip</th>\n",
       "      <th>Approved</th>\n",
       "    </tr>\n",
       "  </thead>\n",
       "  <tbody>\n",
       "    <tr>\n",
       "      <th>0</th>\n",
       "      <td>M0001</td>\n",
       "      <td>-8</td>\n",
       "      <td>C059994</td>\n",
       "      <td>14-Mar-16</td>\n",
       "      <td>7:28:08 AM</td>\n",
       "      <td>303</td>\n",
       "      <td>236</td>\n",
       "      <td>Y</td>\n",
       "    </tr>\n",
       "    <tr>\n",
       "      <th>1</th>\n",
       "      <td>M0005</td>\n",
       "      <td>-3</td>\n",
       "      <td>C059997</td>\n",
       "      <td>18-Jan-16</td>\n",
       "      <td>7:39:59 AM</td>\n",
       "      <td>255</td>\n",
       "      <td>243</td>\n",
       "      <td>Y</td>\n",
       "    </tr>\n",
       "    <tr>\n",
       "      <th>2</th>\n",
       "      <td>M0008</td>\n",
       "      <td>-6</td>\n",
       "      <td>C059994</td>\n",
       "      <td>10-May-16</td>\n",
       "      <td>7:30:35 AM</td>\n",
       "      <td>685</td>\n",
       "      <td>526</td>\n",
       "      <td>Y</td>\n",
       "    </tr>\n",
       "    <tr>\n",
       "      <th>3</th>\n",
       "      <td>M0009</td>\n",
       "      <td>-9</td>\n",
       "      <td>C060000</td>\n",
       "      <td>20-May-16</td>\n",
       "      <td>7:37:37 AM</td>\n",
       "      <td>49</td>\n",
       "      <td>45</td>\n",
       "      <td>Y</td>\n",
       "    </tr>\n",
       "    <tr>\n",
       "      <th>4</th>\n",
       "      <td>M0013</td>\n",
       "      <td>-5</td>\n",
       "      <td>C059997</td>\n",
       "      <td>14-Feb-16</td>\n",
       "      <td>7:45:57 AM</td>\n",
       "      <td>276</td>\n",
       "      <td>200</td>\n",
       "      <td>Y</td>\n",
       "    </tr>\n",
       "    <tr>\n",
       "      <th>5</th>\n",
       "      <td>M0014</td>\n",
       "      <td>-5</td>\n",
       "      <td>C059999</td>\n",
       "      <td>20-Mar-16</td>\n",
       "      <td>7:50:07 AM</td>\n",
       "      <td>440</td>\n",
       "      <td>325</td>\n",
       "      <td>Y</td>\n",
       "    </tr>\n",
       "    <tr>\n",
       "      <th>6</th>\n",
       "      <td>M0017</td>\n",
       "      <td>-6</td>\n",
       "      <td>C060000</td>\n",
       "      <td>19-Dec-16</td>\n",
       "      <td>7:43:46 AM</td>\n",
       "      <td>219</td>\n",
       "      <td>184</td>\n",
       "      <td>Y</td>\n",
       "    </tr>\n",
       "    <tr>\n",
       "      <th>7</th>\n",
       "      <td>M0019</td>\n",
       "      <td>-9</td>\n",
       "      <td>C059998</td>\n",
       "      <td>19-Dec-16</td>\n",
       "      <td>7:45:24 AM</td>\n",
       "      <td>106</td>\n",
       "      <td>89</td>\n",
       "      <td>Y</td>\n",
       "    </tr>\n",
       "    <tr>\n",
       "      <th>8</th>\n",
       "      <td>M0021</td>\n",
       "      <td>-3</td>\n",
       "      <td>C059994</td>\n",
       "      <td>14-Dec-16</td>\n",
       "      <td>7:48:08 AM</td>\n",
       "      <td>146</td>\n",
       "      <td>118</td>\n",
       "      <td>Y</td>\n",
       "    </tr>\n",
       "    <tr>\n",
       "      <th>9</th>\n",
       "      <td>M0033</td>\n",
       "      <td>-2</td>\n",
       "      <td>C059993</td>\n",
       "      <td>6-Jan-16</td>\n",
       "      <td>7:56:10 AM</td>\n",
       "      <td>206</td>\n",
       "      <td>161</td>\n",
       "      <td>Y</td>\n",
       "    </tr>\n",
       "    <tr>\n",
       "      <th>10</th>\n",
       "      <td>M0034</td>\n",
       "      <td>-9</td>\n",
       "      <td>C059993</td>\n",
       "      <td>3-May-16</td>\n",
       "      <td>7:59:02 AM</td>\n",
       "      <td>381</td>\n",
       "      <td>280</td>\n",
       "      <td>Y</td>\n",
       "    </tr>\n",
       "    <tr>\n",
       "      <th>11</th>\n",
       "      <td>M0038</td>\n",
       "      <td>-3</td>\n",
       "      <td>C059996</td>\n",
       "      <td>5-Sep-16</td>\n",
       "      <td>7:58:47 AM</td>\n",
       "      <td>129</td>\n",
       "      <td>109</td>\n",
       "      <td>Y</td>\n",
       "    </tr>\n",
       "  </tbody>\n",
       "</table>\n",
       "</div>"
      ],
      "text/plain": [
       "   Rest_id GMT_diff  Cust_id       Date        Time Amount  Amount_no_tip  \\\n",
       "0    M0001       -8  C059994  14-Mar-16  7:28:08 AM    303            236   \n",
       "1    M0005       -3  C059997  18-Jan-16  7:39:59 AM    255            243   \n",
       "2    M0008       -6  C059994  10-May-16  7:30:35 AM    685            526   \n",
       "3    M0009       -9  C060000  20-May-16  7:37:37 AM     49             45   \n",
       "4    M0013       -5  C059997  14-Feb-16  7:45:57 AM    276            200   \n",
       "5    M0014       -5  C059999  20-Mar-16  7:50:07 AM    440            325   \n",
       "6    M0017       -6  C060000  19-Dec-16  7:43:46 AM    219            184   \n",
       "7    M0019       -9  C059998  19-Dec-16  7:45:24 AM    106             89   \n",
       "8    M0021       -3  C059994  14-Dec-16  7:48:08 AM    146            118   \n",
       "9    M0033       -2  C059993   6-Jan-16  7:56:10 AM    206            161   \n",
       "10   M0034       -9  C059993   3-May-16  7:59:02 AM    381            280   \n",
       "11   M0038       -3  C059996   5-Sep-16  7:58:47 AM    129            109   \n",
       "\n",
       "   Approved  \n",
       "0         Y  \n",
       "1         Y  \n",
       "2         Y  \n",
       "3         Y  \n",
       "4         Y  \n",
       "5         Y  \n",
       "6         Y  \n",
       "7         Y  \n",
       "8         Y  \n",
       "9         Y  \n",
       "10        Y  \n",
       "11        Y  "
      ]
     },
     "execution_count": 246,
     "metadata": {},
     "output_type": "execute_result"
    }
   ],
   "source": [
    "df2 = pd.merge(df1, df_tip_data, on = [\"Rest_id\",\"Time\",\"Cust_id\",\"Date\"])\n",
    "df2"
   ]
  },
  {
   "cell_type": "code",
   "execution_count": 247,
   "metadata": {
    "collapsed": false
   },
   "outputs": [],
   "source": [
    "def find_tip_perc(amount, no_tip_amount):\n",
    "    tip = amount - no_tip_amount\n",
    "    tip_perc = float(tip)/float(no_tip_amount)\n",
    "    return tip_perc"
   ]
  },
  {
   "cell_type": "code",
   "execution_count": 248,
   "metadata": {
    "collapsed": false
   },
   "outputs": [],
   "source": [
    "tip_perc = []\n",
    "for i in range(df2.shape[0]):\n",
    "    tip_perc.append(find_tip_perc(int(df2[\"Amount\"].iloc[i]), int(df2[\"Amount_no_tip\"].iloc[i])))"
   ]
  },
  {
   "cell_type": "code",
   "execution_count": 249,
   "metadata": {
    "collapsed": false
   },
   "outputs": [
    {
     "data": {
      "text/html": [
       "<div>\n",
       "<table border=\"1\" class=\"dataframe\">\n",
       "  <thead>\n",
       "    <tr style=\"text-align: right;\">\n",
       "      <th></th>\n",
       "      <th>Rest_id</th>\n",
       "      <th>GMT_diff</th>\n",
       "      <th>Cust_id</th>\n",
       "      <th>Date</th>\n",
       "      <th>Time</th>\n",
       "      <th>Amount</th>\n",
       "      <th>Amount_no_tip</th>\n",
       "      <th>Approved</th>\n",
       "      <th>Tip_perc</th>\n",
       "    </tr>\n",
       "  </thead>\n",
       "  <tbody>\n",
       "    <tr>\n",
       "      <th>0</th>\n",
       "      <td>M0001</td>\n",
       "      <td>-8</td>\n",
       "      <td>C059994</td>\n",
       "      <td>14-Mar-16</td>\n",
       "      <td>7:28:08 AM</td>\n",
       "      <td>303</td>\n",
       "      <td>236</td>\n",
       "      <td>Y</td>\n",
       "      <td>0.283898</td>\n",
       "    </tr>\n",
       "    <tr>\n",
       "      <th>1</th>\n",
       "      <td>M0005</td>\n",
       "      <td>-3</td>\n",
       "      <td>C059997</td>\n",
       "      <td>18-Jan-16</td>\n",
       "      <td>7:39:59 AM</td>\n",
       "      <td>255</td>\n",
       "      <td>243</td>\n",
       "      <td>Y</td>\n",
       "      <td>0.049383</td>\n",
       "    </tr>\n",
       "    <tr>\n",
       "      <th>2</th>\n",
       "      <td>M0008</td>\n",
       "      <td>-6</td>\n",
       "      <td>C059994</td>\n",
       "      <td>10-May-16</td>\n",
       "      <td>7:30:35 AM</td>\n",
       "      <td>685</td>\n",
       "      <td>526</td>\n",
       "      <td>Y</td>\n",
       "      <td>0.302281</td>\n",
       "    </tr>\n",
       "    <tr>\n",
       "      <th>3</th>\n",
       "      <td>M0009</td>\n",
       "      <td>-9</td>\n",
       "      <td>C060000</td>\n",
       "      <td>20-May-16</td>\n",
       "      <td>7:37:37 AM</td>\n",
       "      <td>49</td>\n",
       "      <td>45</td>\n",
       "      <td>Y</td>\n",
       "      <td>0.088889</td>\n",
       "    </tr>\n",
       "    <tr>\n",
       "      <th>4</th>\n",
       "      <td>M0013</td>\n",
       "      <td>-5</td>\n",
       "      <td>C059997</td>\n",
       "      <td>14-Feb-16</td>\n",
       "      <td>7:45:57 AM</td>\n",
       "      <td>276</td>\n",
       "      <td>200</td>\n",
       "      <td>Y</td>\n",
       "      <td>0.380000</td>\n",
       "    </tr>\n",
       "  </tbody>\n",
       "</table>\n",
       "</div>"
      ],
      "text/plain": [
       "  Rest_id GMT_diff  Cust_id       Date        Time Amount  Amount_no_tip  \\\n",
       "0   M0001       -8  C059994  14-Mar-16  7:28:08 AM    303            236   \n",
       "1   M0005       -3  C059997  18-Jan-16  7:39:59 AM    255            243   \n",
       "2   M0008       -6  C059994  10-May-16  7:30:35 AM    685            526   \n",
       "3   M0009       -9  C060000  20-May-16  7:37:37 AM     49             45   \n",
       "4   M0013       -5  C059997  14-Feb-16  7:45:57 AM    276            200   \n",
       "\n",
       "  Approved  Tip_perc  \n",
       "0        Y  0.283898  \n",
       "1        Y  0.049383  \n",
       "2        Y  0.302281  \n",
       "3        Y  0.088889  \n",
       "4        Y  0.380000  "
      ]
     },
     "execution_count": 249,
     "metadata": {},
     "output_type": "execute_result"
    }
   ],
   "source": [
    "df2[\"Tip_perc\"] = pd.Series(tip_perc)\n",
    "df2.head()"
   ]
  },
  {
   "cell_type": "code",
   "execution_count": 250,
   "metadata": {
    "collapsed": false
   },
   "outputs": [
    {
     "data": {
      "text/html": [
       "<div>\n",
       "<table border=\"1\" class=\"dataframe\">\n",
       "  <thead>\n",
       "    <tr style=\"text-align: right;\">\n",
       "      <th></th>\n",
       "      <th>Rest_id</th>\n",
       "      <th>GMT_diff</th>\n",
       "      <th>Cust_id</th>\n",
       "      <th>Date</th>\n",
       "      <th>Time</th>\n",
       "      <th>Amount</th>\n",
       "      <th>Amount_no_tip</th>\n",
       "      <th>Approved</th>\n",
       "      <th>Tip_perc</th>\n",
       "    </tr>\n",
       "  </thead>\n",
       "  <tbody>\n",
       "    <tr>\n",
       "      <th>0</th>\n",
       "      <td>M0001</td>\n",
       "      <td>-8</td>\n",
       "      <td>C059994</td>\n",
       "      <td>14-Mar-16</td>\n",
       "      <td>7:28:08 AM</td>\n",
       "      <td>303</td>\n",
       "      <td>236</td>\n",
       "      <td>Y</td>\n",
       "      <td>0.283898</td>\n",
       "    </tr>\n",
       "    <tr>\n",
       "      <th>1</th>\n",
       "      <td>M0005</td>\n",
       "      <td>-3</td>\n",
       "      <td>C059997</td>\n",
       "      <td>18-Jan-16</td>\n",
       "      <td>7:39:59 AM</td>\n",
       "      <td>255</td>\n",
       "      <td>243</td>\n",
       "      <td>Y</td>\n",
       "      <td>0.049383</td>\n",
       "    </tr>\n",
       "    <tr>\n",
       "      <th>2</th>\n",
       "      <td>M0008</td>\n",
       "      <td>-6</td>\n",
       "      <td>C059994</td>\n",
       "      <td>10-May-16</td>\n",
       "      <td>7:30:35 AM</td>\n",
       "      <td>685</td>\n",
       "      <td>526</td>\n",
       "      <td>Y</td>\n",
       "      <td>0.302281</td>\n",
       "    </tr>\n",
       "    <tr>\n",
       "      <th>3</th>\n",
       "      <td>M0009</td>\n",
       "      <td>-9</td>\n",
       "      <td>C060000</td>\n",
       "      <td>20-May-16</td>\n",
       "      <td>7:37:37 AM</td>\n",
       "      <td>49</td>\n",
       "      <td>45</td>\n",
       "      <td>Y</td>\n",
       "      <td>0.088889</td>\n",
       "    </tr>\n",
       "    <tr>\n",
       "      <th>4</th>\n",
       "      <td>M0013</td>\n",
       "      <td>-5</td>\n",
       "      <td>C059997</td>\n",
       "      <td>14-Feb-16</td>\n",
       "      <td>7:45:57 AM</td>\n",
       "      <td>276</td>\n",
       "      <td>200</td>\n",
       "      <td>Y</td>\n",
       "      <td>0.380000</td>\n",
       "    </tr>\n",
       "    <tr>\n",
       "      <th>5</th>\n",
       "      <td>M0014</td>\n",
       "      <td>-5</td>\n",
       "      <td>C059999</td>\n",
       "      <td>20-Mar-16</td>\n",
       "      <td>7:50:07 AM</td>\n",
       "      <td>440</td>\n",
       "      <td>325</td>\n",
       "      <td>Y</td>\n",
       "      <td>0.353846</td>\n",
       "    </tr>\n",
       "    <tr>\n",
       "      <th>6</th>\n",
       "      <td>M0017</td>\n",
       "      <td>-6</td>\n",
       "      <td>C060000</td>\n",
       "      <td>19-Dec-16</td>\n",
       "      <td>7:43:46 AM</td>\n",
       "      <td>219</td>\n",
       "      <td>184</td>\n",
       "      <td>Y</td>\n",
       "      <td>0.190217</td>\n",
       "    </tr>\n",
       "    <tr>\n",
       "      <th>7</th>\n",
       "      <td>M0019</td>\n",
       "      <td>-9</td>\n",
       "      <td>C059998</td>\n",
       "      <td>19-Dec-16</td>\n",
       "      <td>7:45:24 AM</td>\n",
       "      <td>106</td>\n",
       "      <td>89</td>\n",
       "      <td>Y</td>\n",
       "      <td>0.191011</td>\n",
       "    </tr>\n",
       "    <tr>\n",
       "      <th>8</th>\n",
       "      <td>M0021</td>\n",
       "      <td>-3</td>\n",
       "      <td>C059994</td>\n",
       "      <td>14-Dec-16</td>\n",
       "      <td>7:48:08 AM</td>\n",
       "      <td>146</td>\n",
       "      <td>118</td>\n",
       "      <td>Y</td>\n",
       "      <td>0.237288</td>\n",
       "    </tr>\n",
       "    <tr>\n",
       "      <th>9</th>\n",
       "      <td>M0033</td>\n",
       "      <td>-2</td>\n",
       "      <td>C059993</td>\n",
       "      <td>6-Jan-16</td>\n",
       "      <td>7:56:10 AM</td>\n",
       "      <td>206</td>\n",
       "      <td>161</td>\n",
       "      <td>Y</td>\n",
       "      <td>0.279503</td>\n",
       "    </tr>\n",
       "    <tr>\n",
       "      <th>10</th>\n",
       "      <td>M0034</td>\n",
       "      <td>-9</td>\n",
       "      <td>C059993</td>\n",
       "      <td>3-May-16</td>\n",
       "      <td>7:59:02 AM</td>\n",
       "      <td>381</td>\n",
       "      <td>280</td>\n",
       "      <td>Y</td>\n",
       "      <td>0.360714</td>\n",
       "    </tr>\n",
       "    <tr>\n",
       "      <th>11</th>\n",
       "      <td>M0038</td>\n",
       "      <td>-3</td>\n",
       "      <td>C059996</td>\n",
       "      <td>5-Sep-16</td>\n",
       "      <td>7:58:47 AM</td>\n",
       "      <td>129</td>\n",
       "      <td>109</td>\n",
       "      <td>Y</td>\n",
       "      <td>0.183486</td>\n",
       "    </tr>\n",
       "  </tbody>\n",
       "</table>\n",
       "</div>"
      ],
      "text/plain": [
       "   Rest_id GMT_diff  Cust_id       Date        Time Amount  Amount_no_tip  \\\n",
       "0    M0001       -8  C059994  14-Mar-16  7:28:08 AM    303            236   \n",
       "1    M0005       -3  C059997  18-Jan-16  7:39:59 AM    255            243   \n",
       "2    M0008       -6  C059994  10-May-16  7:30:35 AM    685            526   \n",
       "3    M0009       -9  C060000  20-May-16  7:37:37 AM     49             45   \n",
       "4    M0013       -5  C059997  14-Feb-16  7:45:57 AM    276            200   \n",
       "5    M0014       -5  C059999  20-Mar-16  7:50:07 AM    440            325   \n",
       "6    M0017       -6  C060000  19-Dec-16  7:43:46 AM    219            184   \n",
       "7    M0019       -9  C059998  19-Dec-16  7:45:24 AM    106             89   \n",
       "8    M0021       -3  C059994  14-Dec-16  7:48:08 AM    146            118   \n",
       "9    M0033       -2  C059993   6-Jan-16  7:56:10 AM    206            161   \n",
       "10   M0034       -9  C059993   3-May-16  7:59:02 AM    381            280   \n",
       "11   M0038       -3  C059996   5-Sep-16  7:58:47 AM    129            109   \n",
       "\n",
       "   Approved  Tip_perc  \n",
       "0         Y  0.283898  \n",
       "1         Y  0.049383  \n",
       "2         Y  0.302281  \n",
       "3         Y  0.088889  \n",
       "4         Y  0.380000  \n",
       "5         Y  0.353846  \n",
       "6         Y  0.190217  \n",
       "7         Y  0.191011  \n",
       "8         Y  0.237288  \n",
       "9         Y  0.279503  \n",
       "10        Y  0.360714  \n",
       "11        Y  0.183486  "
      ]
     },
     "execution_count": 250,
     "metadata": {},
     "output_type": "execute_result"
    }
   ],
   "source": [
    "df2"
   ]
  },
  {
   "cell_type": "code",
   "execution_count": 252,
   "metadata": {
    "collapsed": false
   },
   "outputs": [
    {
     "data": {
      "text/plain": [
       "Cust_id\n",
       "C059993    441\n",
       "C059994    880\n",
       "C059996    109\n",
       "C059997    443\n",
       "C059998     89\n",
       "C059999    325\n",
       "C060000    229\n",
       "Name: Amount_no_tip, dtype: int32"
      ]
     },
     "execution_count": 252,
     "metadata": {},
     "output_type": "execute_result"
    }
   ],
   "source": [
    "amount_excluding_tip = df2.groupby(df2.Cust_id)[\"Amount_no_tip\"].sum()\n",
    "amount_excluding_tip"
   ]
  },
  {
   "cell_type": "code",
   "execution_count": 253,
   "metadata": {
    "collapsed": false
   },
   "outputs": [
    {
     "data": {
      "text/plain": [
       "Cust_id\n",
       "C059993    0.320109\n",
       "C059994    0.274489\n",
       "C059996    0.183486\n",
       "C059997    0.214691\n",
       "C059998    0.191011\n",
       "C059999    0.353846\n",
       "C060000    0.139553\n",
       "Name: Tip_perc, dtype: float64"
      ]
     },
     "execution_count": 253,
     "metadata": {},
     "output_type": "execute_result"
    }
   ],
   "source": [
    "grouped_data =  df2.groupby(df2[\"Cust_id\"])[\"Tip_perc\"]\n",
    "tip_perc = grouped_data.mean()\n",
    "tip_perc"
   ]
  },
  {
   "cell_type": "code",
   "execution_count": 254,
   "metadata": {
    "collapsed": false
   },
   "outputs": [],
   "source": [
    "df_final = pd.DataFrame((tip_perc >= 0.2) & (trans_count >=2) & (amount_excluding_tip >=300))\n",
    "df_final = df_final.reset_index()"
   ]
  },
  {
   "cell_type": "code",
   "execution_count": 255,
   "metadata": {
    "collapsed": false
   },
   "outputs": [
    {
     "data": {
      "text/plain": [
       "Cust_id\n",
       "C059993    0.320109\n",
       "C059994    0.274489\n",
       "C059996    0.183486\n",
       "C059997    0.214691\n",
       "C059998    0.191011\n",
       "C059999    0.353846\n",
       "C060000    0.139553\n",
       "Name: Tip_perc, dtype: float64"
      ]
     },
     "execution_count": 255,
     "metadata": {},
     "output_type": "execute_result"
    }
   ],
   "source": [
    "tip_perc"
   ]
  },
  {
   "cell_type": "code",
   "execution_count": 256,
   "metadata": {
    "collapsed": false
   },
   "outputs": [
    {
     "name": "stdout",
     "output_type": "stream",
     "text": [
      "C059993 Y\n",
      "C059994 Y\n",
      "C059996 N\n",
      "C059997 Y\n",
      "C059998 N\n",
      "C059999 N\n",
      "C060000 N\n"
     ]
    }
   ],
   "source": [
    "for i in range(df_final.shape[0]):\n",
    "    if int(df_final.iloc[i,1]) == 1 :\n",
    "        text = \"Y\"\n",
    "    else:\n",
    "        text = \"N\"\n",
    "        \n",
    "    print df_final[\"Cust_id\"].iloc[i] + \" \" + text "
   ]
  },
  {
   "cell_type": "code",
   "execution_count": 257,
   "metadata": {
    "collapsed": false
   },
   "outputs": [
    {
     "data": {
      "text/html": [
       "<div>\n",
       "<table border=\"1\" class=\"dataframe\">\n",
       "  <thead>\n",
       "    <tr style=\"text-align: right;\">\n",
       "      <th></th>\n",
       "      <th>Cust_id</th>\n",
       "      <th>0</th>\n",
       "    </tr>\n",
       "  </thead>\n",
       "  <tbody>\n",
       "    <tr>\n",
       "      <th>0</th>\n",
       "      <td>C059993</td>\n",
       "      <td>True</td>\n",
       "    </tr>\n",
       "    <tr>\n",
       "      <th>1</th>\n",
       "      <td>C059994</td>\n",
       "      <td>True</td>\n",
       "    </tr>\n",
       "    <tr>\n",
       "      <th>2</th>\n",
       "      <td>C059996</td>\n",
       "      <td>False</td>\n",
       "    </tr>\n",
       "    <tr>\n",
       "      <th>3</th>\n",
       "      <td>C059997</td>\n",
       "      <td>True</td>\n",
       "    </tr>\n",
       "    <tr>\n",
       "      <th>4</th>\n",
       "      <td>C059998</td>\n",
       "      <td>False</td>\n",
       "    </tr>\n",
       "    <tr>\n",
       "      <th>5</th>\n",
       "      <td>C059999</td>\n",
       "      <td>False</td>\n",
       "    </tr>\n",
       "    <tr>\n",
       "      <th>6</th>\n",
       "      <td>C060000</td>\n",
       "      <td>False</td>\n",
       "    </tr>\n",
       "  </tbody>\n",
       "</table>\n",
       "</div>"
      ],
      "text/plain": [
       "   Cust_id      0\n",
       "0  C059993   True\n",
       "1  C059994   True\n",
       "2  C059996  False\n",
       "3  C059997   True\n",
       "4  C059998  False\n",
       "5  C059999  False\n",
       "6  C060000  False"
      ]
     },
     "execution_count": 257,
     "metadata": {},
     "output_type": "execute_result"
    }
   ],
   "source": [
    "df_final"
   ]
  },
  {
   "cell_type": "code",
   "execution_count": 258,
   "metadata": {
    "collapsed": false
   },
   "outputs": [
    {
     "data": {
      "text/plain": [
       "Cust_id\n",
       "C059993    2\n",
       "C059994    3\n",
       "C059996    1\n",
       "C059997    2\n",
       "C059998    1\n",
       "C059999    1\n",
       "C060000    2\n",
       "Name: Rest_id, dtype: int64"
      ]
     },
     "execution_count": 258,
     "metadata": {},
     "output_type": "execute_result"
    }
   ],
   "source": [
    "trans_count"
   ]
  },
  {
   "cell_type": "code",
   "execution_count": 259,
   "metadata": {
    "collapsed": false
   },
   "outputs": [
    {
     "data": {
      "text/plain": [
       "Cust_id\n",
       "C059993    441\n",
       "C059994    880\n",
       "C059996    109\n",
       "C059997    443\n",
       "C059998     89\n",
       "C059999    325\n",
       "C060000    229\n",
       "Name: Amount_no_tip, dtype: int32"
      ]
     },
     "execution_count": 259,
     "metadata": {},
     "output_type": "execute_result"
    }
   ],
   "source": [
    "amount_excluding_tip"
   ]
  },
  {
   "cell_type": "code",
   "execution_count": null,
   "metadata": {
    "collapsed": true
   },
   "outputs": [],
   "source": []
  },
  {
   "cell_type": "code",
   "execution_count": null,
   "metadata": {
    "collapsed": true
   },
   "outputs": [],
   "source": []
  }
 ],
 "metadata": {
  "kernelspec": {
   "display_name": "Python 2",
   "language": "python",
   "name": "python2"
  },
  "language_info": {
   "codemirror_mode": {
    "name": "ipython",
    "version": 2
   },
   "file_extension": ".py",
   "mimetype": "text/x-python",
   "name": "python",
   "nbconvert_exporter": "python",
   "pygments_lexer": "ipython2",
   "version": "2.7.11"
  }
 },
 "nbformat": 4,
 "nbformat_minor": 0
}
